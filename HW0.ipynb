{
 "cells": [
  {
   "cell_type": "code",
   "execution_count": 1,
   "id": "e40fb8e7",
   "metadata": {},
   "outputs": [],
   "source": [
    "import numpy as np\n",
    "import sympy as sp\n",
    "import matplotlib.pyplot as plt"
   ]
  },
  {
   "cell_type": "markdown",
   "id": "9059b68b",
   "metadata": {},
   "source": [
    "# Q1"
   ]
  },
  {
   "cell_type": "code",
   "execution_count": 9,
   "id": "af5ec655",
   "metadata": {},
   "outputs": [
    {
     "name": "stdout",
     "output_type": "stream",
     "text": [
      "A.B = \n",
      " [[ 84  90  96]\n",
      " [201 216 231]\n",
      " [318 342 366]]\n",
      "B.A = \n",
      " [[138 171 204]\n",
      " [174 216 258]\n",
      " [210 261 312]]\n"
     ]
    }
   ],
   "source": [
    "A = np.arange(1,10,1).reshape(3,3)\n",
    "B = np.arange(10,19,1).reshape(3,3)\n",
    "\n",
    "A_B = np.dot(A,B)\n",
    "B_A = np.dot(B,A)\n",
    "\n",
    "print(\"A.B = \\n\", A_B)\n",
    "print(\"B.A = \\n\", B_A)"
   ]
  },
  {
   "cell_type": "markdown",
   "id": "1fd02cc3",
   "metadata": {},
   "source": [
    "# Q2"
   ]
  },
  {
   "cell_type": "code",
   "execution_count": 16,
   "id": "46112ac7",
   "metadata": {},
   "outputs": [
    {
     "name": "stdout",
     "output_type": "stream",
     "text": [
      "M.T is \n",
      " [[ 4 -1  7]\n",
      " [ 5  3  1]\n",
      " [-5 -1  1]]\n",
      "Symmetric part of M is \n",
      " [[4. 2. 1.]\n",
      " [2. 3. 0.]\n",
      " [1. 0. 1.]]\n",
      "Skew-symmetric part of M is \n",
      " [[ 0.  3. -6.]\n",
      " [-3.  0. -1.]\n",
      " [ 6.  1.  0.]]\n"
     ]
    }
   ],
   "source": [
    "M = np.array([[4,5,-5],[-1,3,-1],[7,1,1]])\n",
    "MT = M.T\n",
    "S = (M + MT) / 2\n",
    "skew = (M - MT) / 2\n",
    "\n",
    "print(\"M.T is \\n\", MT)\n",
    "print(\"Symmetric part of M is \\n\", S)\n",
    "print(\"Skew-symmetric part of M is \\n\", skew)"
   ]
  },
  {
   "cell_type": "markdown",
   "id": "a0401ea7",
   "metadata": {},
   "source": [
    "# Q3"
   ]
  },
  {
   "cell_type": "code",
   "execution_count": 15,
   "id": "c02c6513",
   "metadata": {},
   "outputs": [
    {
     "data": {
      "text/plain": [
       "array([[4., 2., 1.],\n",
       "       [2., 3., 0.],\n",
       "       [1., 0., 1.]])"
      ]
     },
     "execution_count": 15,
     "metadata": {},
     "output_type": "execute_result"
    }
   ],
   "source": [
    "S"
   ]
  },
  {
   "cell_type": "code",
   "execution_count": 7,
   "id": "49568ae4",
   "metadata": {},
   "outputs": [
    {
     "data": {
      "text/plain": [
       "array([[1, 2, 3],\n",
       "       [4, 5, 6],\n",
       "       [7, 8, 9]])"
      ]
     },
     "execution_count": 7,
     "metadata": {},
     "output_type": "execute_result"
    }
   ],
   "source": [
    "A"
   ]
  },
  {
   "cell_type": "code",
   "execution_count": 8,
   "id": "510fd554",
   "metadata": {},
   "outputs": [
    {
     "data": {
      "text/plain": [
       "array([[10, 11, 12],\n",
       "       [13, 14, 15],\n",
       "       [16, 17, 18]])"
      ]
     },
     "execution_count": 8,
     "metadata": {},
     "output_type": "execute_result"
    }
   ],
   "source": [
    "B"
   ]
  },
  {
   "cell_type": "code",
   "execution_count": null,
   "id": "fd194426",
   "metadata": {},
   "outputs": [],
   "source": []
  }
 ],
 "metadata": {
  "kernelspec": {
   "display_name": "cardiax-fem-env",
   "language": "python",
   "name": "python3"
  },
  "language_info": {
   "codemirror_mode": {
    "name": "ipython",
    "version": 3
   },
   "file_extension": ".py",
   "mimetype": "text/x-python",
   "name": "python",
   "nbconvert_exporter": "python",
   "pygments_lexer": "ipython3",
   "version": "3.10.6"
  }
 },
 "nbformat": 4,
 "nbformat_minor": 5
}
