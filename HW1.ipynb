{
 "cells": [
  {
   "cell_type": "code",
   "execution_count": 1,
   "id": "8d70eb90",
   "metadata": {},
   "outputs": [],
   "source": [
    "import numpy as np\n",
    "import sympy as sp\n",
    "import matplotlib.pyplot as plt\n",
    "import sympy as sy"
   ]
  },
  {
   "cell_type": "markdown",
   "id": "636219dc",
   "metadata": {},
   "source": [
    "# Part I - Symbolic Problems"
   ]
  },
  {
   "cell_type": "markdown",
   "id": "9efdb0aa",
   "metadata": {},
   "source": [
    "## Q1"
   ]
  },
  {
   "cell_type": "code",
   "execution_count": 77,
   "id": "7cf2e357",
   "metadata": {},
   "outputs": [
    {
     "name": "stdout",
     "output_type": "stream",
     "text": [
      "F = VQ = QU\n",
      "############## Right Polar Decomposition ##############\n",
      "U symmetric?  True\n",
      "After substitutions (should be Identity):  I\n",
      "QT · Q = Q−1 · Q = I (Q is orthogonal)\n",
      "UU = F.T F\n",
      "############## Left Polar Decomposition ##############\n",
      "V symmetric?  True\n",
      "After substitutions (should be Identity):  I\n",
      "VV = F F.T\n"
     ]
    }
   ],
   "source": [
    "n = sp.symbols('n', integer=True, positive=True)\n",
    "F = sp.MatrixSymbol('F', n, n)           # arbitrary invertible tensor (matrix)\n",
    "I = sp.Identity(n)\n",
    "\n",
    "# Right Cauchy-Green Tensor\n",
    "C = F.T @ F\n",
    "# Left Cauchy-Green Tensor\n",
    "B = F @ F.T\n",
    "\n",
    "# Right symmetric tensor\n",
    "U = sp.sqrt(C)\n",
    "# Left symmetric tensor\n",
    "V = sp.sqrt(B)\n",
    "\n",
    "# Isolate Q from right polar system\n",
    "Q_right = F @ sp.Inverse(U)\n",
    "# Isolate Q from left polar system\n",
    "Q_left = sp.Inverse(V) @ F\n",
    "\n",
    "# Polar decompositions (formal equalities)\n",
    "eq1 = sp.Eq(F, Q_right * U)               # F = Q U\n",
    "eq2 = sp.Eq(F, V * Q_left)                # F = V Q\n",
    "\n",
    "if eq1 == eq2 == True:\n",
    "    print(f\"F = VQ = QU\")\n",
    "\n",
    "\n",
    "\n",
    "############## Right Polar Decomposition ##############\n",
    "symU = sp.Eq(U, U.T)                      # U is symmetric\n",
    "# substitute using the assumptions:\n",
    "# 1) U is symmetric: Inverse(U).T -> Inverse(U)\n",
    "# 2) F.T*F = U*U  (i.e. C = U^2)\n",
    "# 3) Inverse(U)*U = I and U*Inverse(U) = I\n",
    "U_sy = sp.MatrixSymbol('U', n, n)\n",
    "Q_right_sy = F @ sp.Inverse(U_sy)\n",
    "expr_test_Q_orthogonality_right = Q_right_sy.T @ Q_right_sy\n",
    "expr_test_Q_orthogonality_right = expr_test_Q_orthogonality_right.subs(sp.Inverse(U_sy).T, sp.Inverse(U_sy))\n",
    "expr_test_Q_orthogonality_right = expr_test_Q_orthogonality_right.subs(F.T * F, U_sy * U_sy)\n",
    "print(\"############## Right Polar Decomposition ##############\")\n",
    "print(\"U symmetric? \", symU )\n",
    "print(\"After substitutions (should be Identity): \", expr_test_Q_orthogonality_right)\n",
    "print(\"QT · Q = Q−1 · Q = I (Q is orthogonal)\")\n",
    "UU   = sp.Eq(U*U, C)                      # U^2 = F^T F\n",
    "if UU:\n",
    "    print(\"UU = F.T F\")\n",
    "\n",
    "############## Left Polar Decomposition ##############\n",
    "symV = sp.Eq(V, V.T)                      # V is symmetric\n",
    "# substitute using the assumptions:\n",
    "# 1) V is symmetric: Inverse(V).T -> Inverse(V)\n",
    "# 2)   (i.e. B = V^2)\n",
    "# 3) Inverse(V)*V = I and V*Inverse(V) = I\n",
    "V_sy = sp.MatrixSymbol('V', n, n)\n",
    "Q_left_sy = sp.Inverse(V_sy) @ F\n",
    "expr_test_Q_orthogonality_left = Q_left_sy @ Q_left_sy.T\n",
    "expr_test_Q_orthogonality_left = expr_test_Q_orthogonality_left.subs(sp.Inverse(V_sy).T, sp.Inverse(V_sy))\n",
    "expr_test_Q_orthogonality_left = expr_test_Q_orthogonality_left.subs(F * F.T, V_sy * V_sy)\n",
    "print(\"############## Left Polar Decomposition ##############\")\n",
    "print(\"V symmetric? \", symV )\n",
    "print(\"After substitutions (should be Identity): \", expr_test_Q_orthogonality_left)\n",
    "VV   = sp.Eq(V*V, B)                      # V^2 = F F^T\n",
    "if VV:\n",
    "    print(\"VV = F F.T\")\n"
   ]
  },
  {
   "cell_type": "markdown",
   "id": "245a3a8e",
   "metadata": {},
   "source": [
    "## Q2"
   ]
  },
  {
   "cell_type": "code",
   "execution_count": 103,
   "id": "456e669a",
   "metadata": {},
   "outputs": [
    {
     "name": "stdout",
     "output_type": "stream",
     "text": [
      "Trace(C*D) = 0 check: True \n",
      "(if C is symmetric and D is skew-symmetric)\n"
     ]
    }
   ],
   "source": [
    "n = sp.symbols('n', integer=True, positive=True)\n",
    "\n",
    "# Define symbolic matrices\n",
    "C = sp.MatrixSymbol('C', n, n)\n",
    "D = sp.MatrixSymbol('D', n, n)\n",
    "\n",
    "# Assumptions\n",
    "# C symmetric: C.T = C\n",
    "# D skew-symmetric: D.T = -D\n",
    "\n",
    "# Trace of C*D\n",
    "trace_CD = sp.Trace(C @ D)\n",
    "\n",
    "# Use properties: Trace(A) = Trace(A.T), C^T = C, D^T = -D\n",
    "trace_T_CD = sp.Trace((C @ D).T)\n",
    "trace_T_CD = trace_T_CD.subs(C.T, C).subs(D.T, -D)\n",
    "\n",
    "# Use property Trace(CD)=Trace(DC)\n",
    "# trace_T_CD = sp.simplify(trace_T_CD.subs(sp.Trace(D@C), sp.Trace(C@D)))\n",
    "trace_T_CD = sp.simplify(trace_T_CD).subs(sp.Trace(D@C), sp.Trace(C@D))\n",
    "\n",
    "\n",
    "# Solve / simplify\n",
    "trace_simplified = sp.simplify(trace_CD + trace_T_CD)\n",
    "print(\"Trace(C*D) = 0 check:\", trace_simplified == 0,  \"\\n(if C is symmetric and D is skew-symmetric)\")"
   ]
  },
  {
   "cell_type": "markdown",
   "id": "ba65a1fd",
   "metadata": {},
   "source": [
    "## Q3"
   ]
  },
  {
   "cell_type": "code",
   "execution_count": 133,
   "id": "4b231690",
   "metadata": {},
   "outputs": [
    {
     "name": "stdout",
     "output_type": "stream",
     "text": [
      "I1(devC) = 0\n",
      "I2(devC) = -0.5*Trace(((-0.333333333333333*Trace(C))*I + C)**2) =-0.5*Trace(((dev(C))**2)\n",
      "I3(devC) = Trace(((-0.333333333333333*Trace(C))*I + C)**3)/3 =-1/3*Trace(((dev(C))**3)\n"
     ]
    }
   ],
   "source": [
    "n = 3  # 3D\n",
    "C = sp.MatrixSymbol('C', n, n)\n",
    "I = sp.Identity(n)\n",
    "\n",
    "# Deviatoric part: dev(C) = C - (1/3)*tr(C)*I\n",
    "devC = C - (1/3) * sp.Trace(C) * I\n",
    "\n",
    "\n",
    "# First invariant: I1(devC) = tr(dev(C))\n",
    "I1_devC = sp.Trace(devC).doit()\n",
    "print(\"I1(devC) =\", I1_devC)\n",
    "\n",
    "# Second invariant: I2(devC) = -1/2 * tr(dev(C)^2), as tr(dev(C))=0\n",
    "I2_devC = 0.5 * ( - sp.Trace(devC**2)).doit()\n",
    "print(\"I2(devC) =\", I2_devC,\"=-0.5*Trace(((dev(C))**2)\")\n",
    "\n",
    "# Third invariant (general formula for det(A) in 3D):\n",
    "I3_devC = sp.Rational(1, 6) * (\n",
    "    (sp.Trace(devC))**3\n",
    "    - 3*sp.Trace(devC)*sp.Trace(devC**2)\n",
    "    + 2*sp.Trace(devC**3)\n",
    ").doit()\n",
    "print(\"I3(devC) =\", sp.simplify(I3_devC),\"=-1/3*Trace(((dev(C))**3)\")"
   ]
  },
  {
   "cell_type": "code",
   "execution_count": null,
   "id": "b468ad50",
   "metadata": {},
   "outputs": [],
   "source": []
  }
 ],
 "metadata": {
  "kernelspec": {
   "display_name": "cardiax-fem-env",
   "language": "python",
   "name": "python3"
  },
  "language_info": {
   "codemirror_mode": {
    "name": "ipython",
    "version": 3
   },
   "file_extension": ".py",
   "mimetype": "text/x-python",
   "name": "python",
   "nbconvert_exporter": "python",
   "pygments_lexer": "ipython3",
   "version": "3.10.6"
  }
 },
 "nbformat": 4,
 "nbformat_minor": 5
}
