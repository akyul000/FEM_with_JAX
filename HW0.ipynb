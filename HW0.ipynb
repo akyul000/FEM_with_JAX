{
 "cells": [
  {
   "cell_type": "code",
   "execution_count": 1,
   "id": "e40fb8e7",
   "metadata": {},
   "outputs": [],
   "source": [
    "import numpy as np\n",
    "import sympy as sp\n",
    "import matplotlib.pyplot as plt\n",
    "import sympy as sy"
   ]
  },
  {
   "cell_type": "markdown",
   "id": "9059b68b",
   "metadata": {},
   "source": [
    "# Q1"
   ]
  },
  {
   "cell_type": "code",
   "execution_count": 2,
   "id": "af5ec655",
   "metadata": {},
   "outputs": [
    {
     "name": "stdout",
     "output_type": "stream",
     "text": [
      "A.B = \n",
      " [[ 84  90  96]\n",
      " [201 216 231]\n",
      " [318 342 366]]\n",
      "B.A = \n",
      " [[138 171 204]\n",
      " [174 216 258]\n",
      " [210 261 312]]\n"
     ]
    }
   ],
   "source": [
    "A = np.arange(1,10,1).reshape(3,3)\n",
    "B = np.arange(10,19,1).reshape(3,3)\n",
    "\n",
    "A_B = np.matmul(A,B)\n",
    "B_A = np.matmul(B,A)\n",
    "\n",
    "print(\"A.B = \\n\", A_B)\n",
    "print(\"B.A = \\n\", B_A)"
   ]
  },
  {
   "cell_type": "markdown",
   "id": "1fd02cc3",
   "metadata": {},
   "source": [
    "# Q2"
   ]
  },
  {
   "cell_type": "code",
   "execution_count": 3,
   "id": "46112ac7",
   "metadata": {},
   "outputs": [
    {
     "name": "stdout",
     "output_type": "stream",
     "text": [
      "M.T is \n",
      " [[ 4 -1  7]\n",
      " [ 5  3  1]\n",
      " [-5 -1  1]]\n",
      "Symmetric part of M is: \n",
      " [[4. 2. 1.]\n",
      " [2. 3. 0.]\n",
      " [1. 0. 1.]]\n",
      "Skew-symmetric part of M is: \n",
      " [[ 0.  3. -6.]\n",
      " [-3.  0. -1.]\n",
      " [ 6.  1.  0.]]\n"
     ]
    }
   ],
   "source": [
    "M = np.array([[4,5,-5],[-1,3,-1],[7,1,1]])\n",
    "MT = M.T\n",
    "MS = (M + MT) / 2\n",
    "MW = (M - MT) / 2\n",
    "\n",
    "print(\"M.T is \\n\", MT)\n",
    "print(\"Symmetric part of M is: \\n\", MS)\n",
    "print(\"Skew-symmetric part of M is: \\n\", MW)"
   ]
  },
  {
   "cell_type": "markdown",
   "id": "a0401ea7",
   "metadata": {},
   "source": [
    "# Q3"
   ]
  },
  {
   "cell_type": "code",
   "execution_count": 4,
   "id": "e37cbb0d",
   "metadata": {},
   "outputs": [
    {
     "name": "stdout",
     "output_type": "stream",
     "text": [
      "Trace of A_s.B_w is:  0.0\n"
     ]
    }
   ],
   "source": [
    "AS = (A + A.T) / 2\n",
    "BW = (B - B.T) / 2\n",
    "\n",
    "AS_BW = np.matmul(AS, BW)\n",
    "TR_AS_BW = np.trace(AS_BW)\n",
    "print(\"Trace of A_s.B_w is: \", TR_AS_BW)"
   ]
  },
  {
   "cell_type": "markdown",
   "id": "c078f197",
   "metadata": {},
   "source": [
    "# Q4"
   ]
  },
  {
   "cell_type": "code",
   "execution_count": 5,
   "id": "c02c6513",
   "metadata": {},
   "outputs": [
    {
     "name": "stdout",
     "output_type": "stream",
     "text": [
      "Derivative of A(t)\n"
     ]
    },
    {
     "data": {
      "text/latex": [
       "$\\displaystyle \\left[\\begin{matrix}1 & 2 t & \\omega \\cos{\\left(\\omega t \\right)}\\\\\\sinh{\\left(t \\right)} & \\frac{1}{t} & 17\\\\- \\frac{1}{t^{2}} & - \\frac{2}{t^{3}} & \\frac{2}{t}\\end{matrix}\\right]$"
      ],
      "text/plain": [
       "Matrix([\n",
       "[      1,     2*t, omega*cos(omega*t)],\n",
       "[sinh(t),     1/t,                 17],\n",
       "[-1/t**2, -2/t**3,                2/t]])"
      ]
     },
     "metadata": {},
     "output_type": "display_data"
    }
   ],
   "source": [
    "t_sy = sy.symbols('t')\n",
    "omega_sy = sy.symbols('omega')\n",
    "A_sy = sy.Matrix([[t_sy, t_sy**2, sy.sin(omega_sy * t_sy)], \n",
    "                  [sy.cosh(t_sy), sy.log(t_sy), 17 * t_sy], \n",
    "                  [1 / t_sy, 1 / (t_sy**2), sy.log(t_sy**2)]])\n",
    "der_A = A_sy.diff(t_sy)\n",
    "print('Derivative of A(t)')\n",
    "display(der_A)"
   ]
  },
  {
   "cell_type": "markdown",
   "id": "fc60c234",
   "metadata": {},
   "source": [
    "# Q5"
   ]
  },
  {
   "cell_type": "code",
   "execution_count": 10,
   "id": "49568ae4",
   "metadata": {},
   "outputs": [
    {
     "name": "stdout",
     "output_type": "stream",
     "text": [
      "Sorted eigenvalues of G:\n",
      "[131.24038405 110.         -31.24038405]\n",
      "Sorted eigenvectors of G\n",
      "[[ 0.50380256  0.         -0.86381884]\n",
      " [ 0.61081216  0.70710678  0.35624221]\n",
      " [-0.61081216  0.70710678 -0.35624221]]\n",
      "λ_1 is 131.24038404635962 with v_1 [ 0.50380256  0.61081216 -0.61081216]\n",
      "λ_2 is 110.0 with v_2 [0.         0.70710678 0.70710678]\n",
      "λ_3 is -31.240384046359594 with v_3 [-0.86381884  0.35624221 -0.35624221]\n"
     ]
    }
   ],
   "source": [
    "G = np.array([[10, 50, -50], [50, 100, 10], [-50, 10, 100]])\n",
    "eigvals_G, eigvecs_G = np.linalg.eig(G)\n",
    "# print('Eigenvalues of G')\n",
    "# print(eigvals_G)\n",
    "# print('Eigenvectors of G')\n",
    "# print(eigvecs_G)\n",
    "\n",
    "eigvals_G_inds = np.argsort(eigvals_G, )[::-1]\n",
    "eigvals_G_sorted = eigvals_G[eigvals_G_inds]\n",
    "eigvecs_G_sorted = eigvecs_G[:,eigvals_G_inds]\n",
    "\n",
    "print('Sorted eigenvalues of G:')\n",
    "print(eigvals_G_sorted)\n",
    "print('Sorted eigenvectors of G')\n",
    "print(eigvecs_G_sorted)\n",
    "\n",
    "print(f\"{chr(955)}_1 is {eigvals_G_sorted[0]} with v_1 {eigvecs_G_sorted[:,0]}\")\n",
    "print(f\"{chr(955)}_2 is {eigvals_G_sorted[1]} with v_2 {eigvecs_G_sorted[:,1]}\")\n",
    "print(f\"{chr(955)}_3 is {eigvals_G_sorted[2]} with v_3 {eigvecs_G_sorted[:,2]}\")\n",
    "\n"
   ]
  },
  {
   "cell_type": "markdown",
   "id": "a0d02597",
   "metadata": {},
   "source": [
    "# Q6"
   ]
  },
  {
   "cell_type": "code",
   "execution_count": 22,
   "id": "75f981bf",
   "metadata": {},
   "outputs": [
    {
     "name": "stdout",
     "output_type": "stream",
     "text": [
      "G inverse is: \n",
      " [[-0.02195122  0.01219512 -0.01219512]\n",
      " [ 0.01219512  0.00332594  0.00576497]\n",
      " [-0.01219512  0.00576497  0.00332594]]\n",
      "Eigenvalues of G inverse\n",
      "λ_1 is 0.00909090909090909 with v_1 [0.         0.70710678 0.70710678]\n",
      "λ_2 is 0.007619605864965757 with v_2 [ 0.50380256  0.61081216 -0.61081216]\n",
      "λ_3 is -0.032009849767404785 with v_3 [-0.86381884  0.35624221 -0.35624221]\n",
      "Inverse of the eigenvalues of G\n",
      "[ 0.00909091  0.00761961 -0.03200985]\n",
      "The eigenvalues of the inverse matrix are the inverses of the eigenvalues of the original matrix\n"
     ]
    }
   ],
   "source": [
    "G_inv = np.linalg.inv(G)\n",
    "print(f\"G inverse is: \\n {G_inv}\")\n",
    "eigvals_G_inv, eigvecs_G_inv = np.linalg.eig(G_inv)\n",
    "\n",
    "eigval_G_inv_sorted_inds = np.argsort(eigvals_G_inv)[::-1]\n",
    "eigvals_G_inv_sorted = eigvals_G_inv[eigval_G_inv_sorted_inds]\n",
    "eigvecs_G_inv_sorted = eigvecs_G_inv[:,eigval_G_inv_sorted_inds]\n",
    "\n",
    "print('Eigenvalues of G inverse')\n",
    "print(f\"{chr(955)}_1 is {eigvals_G_inv_sorted[0]} with v_1 {eigvecs_G_inv_sorted[:,0]}\")\n",
    "print(f\"{chr(955)}_2 is {eigvals_G_inv_sorted[1]} with v_2 {eigvecs_G_inv_sorted[:,1]}\")\n",
    "print(f\"{chr(955)}_3 is {eigvals_G_inv_sorted[2]} with v_3 {eigvecs_G_inv_sorted[:,2]}\")\n",
    "\n",
    "inverse_eigvals_G = np.sort(1 / eigvals_G_sorted)[::-1]\n",
    "print('Inverse of the eigenvalues of G')\n",
    "print(inverse_eigvals_G)\n",
    "\n",
    "if np.isclose(eigvals_G_inv_sorted, inverse_eigvals_G, atol=1e-5).all:\n",
    "    print('The eigenvalues of the inverse matrix are the inverses of the eigenvalues of the original matrix')"
   ]
  },
  {
   "cell_type": "markdown",
   "id": "3149a626",
   "metadata": {},
   "source": [
    "# Q7"
   ]
  },
  {
   "cell_type": "code",
   "execution_count": 50,
   "id": "9d67a494",
   "metadata": {},
   "outputs": [
    {
     "name": "stdout",
     "output_type": "stream",
     "text": [
      "T\n",
      "[[ 1.         0.         0.       ]\n",
      " [ 0.         2.75      -0.4330127]\n",
      " [ 0.        -0.4330127  2.25     ]]\n",
      "Sorted eigenvalues of T are: \n",
      " [3. 2. 1.]\n",
      "Sorted eigenvectors of T are: \n",
      " [[ 0.         0.         1.       ]\n",
      " [-0.8660254 -0.5        0.       ]\n",
      " [ 0.5       -0.8660254  0.       ]]\n",
      " b) Angle between the first eigenvector and the x1-axis: 1.5708 radians (90.0000 degrees)\n"
     ]
    }
   ],
   "source": [
    "T = np.array([[1, 0, 0], [0, 11/4, -np.sqrt(3)/4], [0, -np.sqrt(3)/4, 9/4]])\n",
    "print('T')\n",
    "print(T)\n",
    "eigvals_T, eigvecs_T = np.linalg.eig(T)\n",
    "\n",
    "sorted_inds_eigvals_T = np.argsort(eigvals_T)[::-1]\n",
    "sorted_eigvals_T = eigvals_T[sorted_inds_eigvals_T]\n",
    "sorted_eigvecs_T = eigvecs_T[:,sorted_inds_eigvals_T]\n",
    "\n",
    "print(f\"Sorted eigenvalues of T are: \\n {sorted_eigvals_T}\")\n",
    "print(f\"Sorted eigenvectors of T are: \\n {sorted_eigvecs_T}\")\n",
    "\n",
    "\n",
    "# The angle between the first eigenvector and the x1 axis\n",
    "first_eigvec = sorted_eigvecs_T[:, 0]\n",
    "lambda_1 = sorted_eigvals_T[0]\n",
    "magnitude = np.linalg.norm(first_eigvec)\n",
    "angle = np.arccos(first_eigvec[0]) # Angle in radians\n",
    "angle_degrees = np.degrees(angle)\n",
    "print(f\" b) Angle between the first eigenvector and the x1-axis: {angle:.4f} radians ({angle_degrees:.4f} degrees)\")"
   ]
  }
 ],
 "metadata": {
  "kernelspec": {
   "display_name": "cardiax-fem-env",
   "language": "python",
   "name": "python3"
  },
  "language_info": {
   "codemirror_mode": {
    "name": "ipython",
    "version": 3
   },
   "file_extension": ".py",
   "mimetype": "text/x-python",
   "name": "python",
   "nbconvert_exporter": "python",
   "pygments_lexer": "ipython3",
   "version": "3.10.6"
  }
 },
 "nbformat": 4,
 "nbformat_minor": 5
}
