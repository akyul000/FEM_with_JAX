{
 "cells": [
  {
   "cell_type": "code",
   "execution_count": 1,
   "id": "8d70eb90",
   "metadata": {},
   "outputs": [],
   "source": [
    "import numpy as np\n",
    "import sympy as sp\n",
    "import matplotlib.pyplot as plt\n",
    "import sympy as sy"
   ]
  },
  {
   "cell_type": "markdown",
   "id": "636219dc",
   "metadata": {},
   "source": [
    "# Part I - Symbolic Problems"
   ]
  },
  {
   "cell_type": "markdown",
   "id": "9efdb0aa",
   "metadata": {},
   "source": [
    "## Q1"
   ]
  },
  {
   "cell_type": "code",
   "execution_count": 2,
   "id": "7cf2e357",
   "metadata": {},
   "outputs": [
    {
     "name": "stdout",
     "output_type": "stream",
     "text": [
      "F = VQ = QU\n",
      "############## Right Polar Decomposition ##############\n",
      "U symmetric?  True\n",
      "After substitutions (should be Identity):  I\n",
      "QT · Q = Q−1 · Q = I (Q is orthogonal)\n",
      "UU = F.T F\n",
      "############## Left Polar Decomposition ##############\n",
      "V symmetric?  True\n",
      "After substitutions (should be Identity):  I\n",
      "VV = F F.T\n"
     ]
    }
   ],
   "source": [
    "n = sp.symbols('n', integer=True, positive=True)\n",
    "F = sp.MatrixSymbol('F', n, n)           # arbitrary invertible tensor (matrix)\n",
    "I = sp.Identity(n)\n",
    "\n",
    "# Right Cauchy-Green Tensor\n",
    "C = F.T @ F\n",
    "# Left Cauchy-Green Tensor\n",
    "B = F @ F.T\n",
    "\n",
    "# Right symmetric tensor\n",
    "U = sp.sqrt(C)\n",
    "# Left symmetric tensor\n",
    "V = sp.sqrt(B)\n",
    "\n",
    "# Isolate Q from right polar system\n",
    "Q_right = F @ sp.Inverse(U)\n",
    "# Isolate Q from left polar system\n",
    "Q_left = sp.Inverse(V) @ F\n",
    "\n",
    "# Polar decompositions (formal equalities)\n",
    "eq1 = sp.Eq(F, Q_right * U)               # F = Q U\n",
    "eq2 = sp.Eq(F, V * Q_left)                # F = V Q\n",
    "\n",
    "if eq1 == eq2 == True:\n",
    "    print(f\"F = VQ = QU\")\n",
    "\n",
    "\n",
    "\n",
    "############## Right Polar Decomposition ##############\n",
    "symU = sp.Eq(U, U.T)                      # U is symmetric\n",
    "# substitute using the assumptions:\n",
    "# 1) U is symmetric: Inverse(U).T -> Inverse(U)\n",
    "# 2) F.T*F = U*U  (i.e. C = U^2)\n",
    "# 3) Inverse(U)*U = I and U*Inverse(U) = I\n",
    "U_sy = sp.MatrixSymbol('U', n, n)\n",
    "Q_right_sy = F @ sp.Inverse(U_sy)\n",
    "expr_test_Q_orthogonality_right = Q_right_sy.T @ Q_right_sy\n",
    "expr_test_Q_orthogonality_right = expr_test_Q_orthogonality_right.subs(sp.Inverse(U_sy).T, sp.Inverse(U_sy))\n",
    "expr_test_Q_orthogonality_right = expr_test_Q_orthogonality_right.subs(F.T * F, U_sy * U_sy)\n",
    "print(\"############## Right Polar Decomposition ##############\")\n",
    "print(\"U symmetric? \", symU )\n",
    "print(\"After substitutions (should be Identity): \", expr_test_Q_orthogonality_right)\n",
    "print(\"QT · Q = Q−1 · Q = I (Q is orthogonal)\")\n",
    "UU   = sp.Eq(U*U, C)                      # U^2 = F^T F\n",
    "if UU:\n",
    "    print(\"UU = F.T F\")\n",
    "\n",
    "############## Left Polar Decomposition ##############\n",
    "symV = sp.Eq(V, V.T)                      # V is symmetric\n",
    "# substitute using the assumptions:\n",
    "# 1) V is symmetric: Inverse(V).T -> Inverse(V)\n",
    "# 2)   (i.e. B = V^2)\n",
    "# 3) Inverse(V)*V = I and V*Inverse(V) = I\n",
    "V_sy = sp.MatrixSymbol('V', n, n)\n",
    "Q_left_sy = sp.Inverse(V_sy) @ F\n",
    "expr_test_Q_orthogonality_left = Q_left_sy @ Q_left_sy.T\n",
    "expr_test_Q_orthogonality_left = expr_test_Q_orthogonality_left.subs(sp.Inverse(V_sy).T, sp.Inverse(V_sy))\n",
    "expr_test_Q_orthogonality_left = expr_test_Q_orthogonality_left.subs(F * F.T, V_sy * V_sy)\n",
    "print(\"############## Left Polar Decomposition ##############\")\n",
    "print(\"V symmetric? \", symV )\n",
    "print(\"After substitutions (should be Identity): \", expr_test_Q_orthogonality_left)\n",
    "VV   = sp.Eq(V*V, B)                      # V^2 = F F^T\n",
    "if VV:\n",
    "    print(\"VV = F F.T\")\n"
   ]
  },
  {
   "cell_type": "markdown",
   "id": "245a3a8e",
   "metadata": {},
   "source": [
    "## Q2"
   ]
  },
  {
   "cell_type": "code",
   "execution_count": 3,
   "id": "456e669a",
   "metadata": {},
   "outputs": [
    {
     "name": "stdout",
     "output_type": "stream",
     "text": [
      "Trace(C*D) = 0 check: True \n",
      "(if C is symmetric and D is skew-symmetric)\n"
     ]
    }
   ],
   "source": [
    "n = sp.symbols('n', integer=True, positive=True)\n",
    "\n",
    "# Define symbolic matrices\n",
    "C = sp.MatrixSymbol('C', n, n)\n",
    "D = sp.MatrixSymbol('D', n, n)\n",
    "\n",
    "# Assumptions\n",
    "# C symmetric: C.T = C\n",
    "# D skew-symmetric: D.T = -D\n",
    "\n",
    "# Trace of C*D\n",
    "trace_CD = sp.Trace(C @ D)\n",
    "\n",
    "# Use properties: Trace(A) = Trace(A.T), C^T = C, D^T = -D\n",
    "trace_T_CD = sp.Trace((C @ D).T)\n",
    "trace_T_CD = trace_T_CD.subs(C.T, C).subs(D.T, -D)\n",
    "\n",
    "# Use property Trace(CD)=Trace(DC)\n",
    "# trace_T_CD = sp.simplify(trace_T_CD.subs(sp.Trace(D@C), sp.Trace(C@D)))\n",
    "trace_T_CD = sp.simplify(trace_T_CD).subs(sp.Trace(D@C), sp.Trace(C@D))\n",
    "\n",
    "\n",
    "# Solve / simplify\n",
    "trace_simplified = sp.simplify(trace_CD + trace_T_CD)\n",
    "print(\"Trace(C*D) = 0 check:\", trace_simplified == 0,  \"\\n(if C is symmetric and D is skew-symmetric)\")"
   ]
  },
  {
   "cell_type": "markdown",
   "id": "ba65a1fd",
   "metadata": {},
   "source": [
    "## Q3"
   ]
  },
  {
   "cell_type": "code",
   "execution_count": 4,
   "id": "4b231690",
   "metadata": {},
   "outputs": [
    {
     "name": "stdout",
     "output_type": "stream",
     "text": [
      "I1(devC) = 0\n",
      "I2(devC) = -0.5*Trace(((-0.333333333333333*Trace(C))*I + C)**2) =-0.5*Trace(((dev(C))**2)\n",
      "I3(devC) = Trace(((-0.333333333333333*Trace(C))*I + C)**3)/3 =-1/3*Trace(((dev(C))**3)\n"
     ]
    }
   ],
   "source": [
    "n = 3  # 3D\n",
    "C = sp.MatrixSymbol('C', n, n)\n",
    "I = sp.Identity(n)\n",
    "\n",
    "# Deviatoric part: dev(C) = C - (1/3)*tr(C)*I\n",
    "devC = C - (1/3) * sp.Trace(C) * I\n",
    "\n",
    "\n",
    "# First invariant: I1(devC) = tr(dev(C))\n",
    "I1_devC = sp.Trace(devC).doit()\n",
    "print(\"I1(devC) =\", I1_devC)\n",
    "\n",
    "# Second invariant: I2(devC) = -1/2 * tr(dev(C)^2), as tr(dev(C))=0\n",
    "I2_devC = 0.5 * ( - sp.Trace(devC**2)).doit()\n",
    "print(\"I2(devC) =\", I2_devC,\"=-0.5*Trace(((dev(C))**2)\")\n",
    "\n",
    "# Third invariant (general formula for det(A) in 3D):\n",
    "I3_devC = sp.Rational(1, 6) * (\n",
    "    (sp.Trace(devC))**3\n",
    "    - 3*sp.Trace(devC)*sp.Trace(devC**2)\n",
    "    + 2*sp.Trace(devC**3)\n",
    ").doit()\n",
    "print(\"I3(devC) =\", sp.simplify(I3_devC),\"=-1/3*Trace(((dev(C))**3)\")"
   ]
  },
  {
   "cell_type": "markdown",
   "id": "787e726a",
   "metadata": {},
   "source": [
    "# Part II - Numerical Problems"
   ]
  },
  {
   "cell_type": "code",
   "execution_count": 5,
   "id": "b468ad50",
   "metadata": {},
   "outputs": [],
   "source": [
    "T = np.array([[1, 0, 0],\n",
    "              [0, 1.25, -np.sqrt(3)/4],\n",
    "              [0, -np.sqrt(3)/4, 9/4]])\n",
    "\n",
    "A = np.array([[1,2,3],\n",
    "              [4,2,1],\n",
    "              [1,1,1]])\n",
    "\n",
    "def Rotation(alpha, beta, gamma):\n",
    "    def Rx(theta):\n",
    "        return np.array([[1, 0, 0],\n",
    "                         [0, np.cos(theta), -np.sin(theta)],\n",
    "                         [0, np.sin(theta), np.cos(theta)]])\n",
    "    def Ry(theta):\n",
    "        return np.array([[np.cos(theta), 0, np.sin(theta)],\n",
    "                         [0, 1, 0],\n",
    "                         [-np.sin(theta), 0, np.cos(theta)]])\n",
    "    def Rz(theta):\n",
    "        return np.array([[np.cos(theta), -np.sin(theta), 0],\n",
    "                         [np.sin(theta), np.cos(theta), 0],\n",
    "                         [0, 0, 1]])\n",
    "    return Rz(alpha) @ Ry(beta) @ Rx(gamma)"
   ]
  },
  {
   "cell_type": "markdown",
   "id": "e327360c",
   "metadata": {},
   "source": [
    "## Q1"
   ]
  },
  {
   "cell_type": "markdown",
   "id": "13871d2b",
   "metadata": {},
   "source": [
    "### a) Setup the original base vectors"
   ]
  },
  {
   "cell_type": "code",
   "execution_count": 6,
   "id": "477c7db5",
   "metadata": {},
   "outputs": [
    {
     "name": "stdout",
     "output_type": "stream",
     "text": [
      "e1 in the 3D Cartesian system is: \n",
      " [[1]\n",
      " [0]\n",
      " [0]]\n",
      "e2 in the 3D Cartesian system is: \n",
      " [[0]\n",
      " [1]\n",
      " [0]]\n",
      "e3 in the 3D Cartesian system is: \n",
      " [[0]\n",
      " [0]\n",
      " [1]]\n"
     ]
    }
   ],
   "source": [
    "e1_cartesian = np.array([1, 0, 0]).reshape(-1,1)\n",
    "e2_cartesian = np.array([0, 1, 0]).reshape(-1,1)\n",
    "e3_cartesian = np.array([0, 0, 1]).reshape(-1,1)\n",
    "print(\"e1 in the 3D Cartesian system is: \\n\", e1_cartesian)\n",
    "print(\"e2 in the 3D Cartesian system is: \\n\", e2_cartesian)\n",
    "print(\"e3 in the 3D Cartesian system is: \\n\", e3_cartesian)"
   ]
  },
  {
   "cell_type": "markdown",
   "id": "646fd361",
   "metadata": {},
   "source": [
    "### b-c) Rotate the base vectors with given $\\alpha$, $\\beta$ and $\\gamma$\n",
    "Compute the corresponding Q matrix "
   ]
  },
  {
   "cell_type": "code",
   "execution_count": null,
   "id": "d6f50804",
   "metadata": {},
   "outputs": [
    {
     "name": "stdout",
     "output_type": "stream",
     "text": [
      "With the given rotation angles, obtained rotation tensor is: \n",
      " [[ 0.8365163  -0.3584266   0.41445246]\n",
      " [ 0.48296291  0.83957639 -0.24871329]\n",
      " [-0.25881905  0.40821789  0.8754261 ]]\n",
      "The determinant of the rotation tensor is 1.000 \n",
      "which tells us Q = R is proper orthogonal thus: it is the Rotation Tensor \n",
      "and the new basis is also right handed!\n",
      "e1 in the rotated system is: \n",
      " [[ 0.8365163 ]\n",
      " [ 0.48296291]\n",
      " [-0.25881905]]\n",
      "e2 in the rotated system is: \n",
      " [[-0.3584266 ]\n",
      " [ 0.83957639]\n",
      " [ 0.40821789]]\n",
      "e3 in the rotated system is: \n",
      " [[ 0.41445246]\n",
      " [-0.24871329]\n",
      " [ 0.8754261 ]]\n",
      "Norm of new e1 is 1.0\n",
      "Norm of new e2 is 1.000\n",
      "Norm of new e3 is 1.0\n",
      "Thus the new sets of base vectors are orthonormal!\n",
      "Also check for Q.T @ Q = Q @ Q.T = I\n",
      "Is Q^T Q identity? True\n",
      "Is Q Q^T identity? True\n"
     ]
    }
   ],
   "source": [
    "alpha_deg = 30\n",
    "beta_deg = 15\n",
    "gamma_deg = 25\n",
    "\n",
    "deg_to_rad = lambda theta: theta * np.pi / 180\n",
    "\n",
    "R = Rotation(alpha=deg_to_rad(alpha_deg),\n",
    "             beta=deg_to_rad(beta_deg),\n",
    "             gamma=deg_to_rad(gamma_deg))\n",
    "\n",
    "e1_rotated = R @ e1_cartesian\n",
    "e2_rotated = R @ e2_cartesian\n",
    "e3_rotated = R @ e3_cartesian\n",
    "\n",
    "print(f\"With the given rotation angles, obtained rotation tensor is: \\n {R}\")\n",
    "print(f\"The determinant of the rotation tensor is {np.linalg.det(R):.3f} \\n\\\n",
    "which tells us Q = R is proper orthogonal thus: it is the Rotation Tensor \\n\\\n",
    "and the new basis is also right handed!\")\n",
    "\n",
    "print(\"e1 in the rotated system is: \\n\", e1_rotated)\n",
    "print(\"e2 in the rotated system is: \\n\", e2_rotated)\n",
    "print(\"e3 in the rotated system is: \\n\", e3_rotated)\n",
    "\n",
    "print(f\"Norm of new e1 is {np.linalg.norm(e1_rotated)}\")\n",
    "print(f\"Norm of new e2 is {np.linalg.norm(e2_rotated):.3f}\")\n",
    "print(f\"Norm of new e3 is {np.linalg.norm(e3_rotated)}\")\n",
    "print(\"Thus the new sets of base vectors are orthonormal!\")\n",
    "\n",
    "\n",
    "print(\"Also check for Q.T @ Q = Q @ Q.T = I\")\n",
    "\n",
    "QTQ = R.T @ R\n",
    "QQT = R @ R.T\n",
    "\n",
    "print(\"Is Q^T Q identity?\", np.allclose(QTQ, np.eye(3)))\n",
    "print(\"Is Q Q^T identity?\", np.allclose(QQT, np.eye(3)))\n",
    "\n"
   ]
  },
  {
   "cell_type": "markdown",
   "id": "f213cac1",
   "metadata": {},
   "source": [
    "### d) Compute $T$′"
   ]
  },
  {
   "cell_type": "code",
   "execution_count": 50,
   "id": "66639327",
   "metadata": {},
   "outputs": [
    {
     "name": "stdout",
     "output_type": "stream",
     "text": [
      "T prime is: \n",
      " [[ 1.37547972 -0.39335559  0.479558  ]\n",
      " [-0.39335559  1.43438307 -0.46077541]\n",
      " [ 0.479558   -0.46077541  1.69013721]]\n"
     ]
    }
   ],
   "source": [
    "compute_transform_tensor_T = lambda T, Q: Q @ T @ Q.T\n",
    "T_prime = compute_transform_tensor_T(T=T,Q=R)\n",
    "\n",
    "print(f\"T prime is: \\n {T_prime}\")"
   ]
  },
  {
   "cell_type": "markdown",
   "id": "dffafff9",
   "metadata": {},
   "source": [
    "### e) Compute the eigenvalues of $T$′"
   ]
  },
  {
   "cell_type": "code",
   "execution_count": 51,
   "id": "6f8baac0",
   "metadata": {},
   "outputs": [
    {
     "name": "stdout",
     "output_type": "stream",
     "text": [
      "Sorted eigenvalues of T:\n",
      "[2.41143783 1.08856217 1.        ]\n",
      "Sorted eigenvectors of T prime\n",
      "[2.41143783 1.08856217 1.        ]\n",
      "Are T and T prime have the same eigenvalue? True\n"
     ]
    }
   ],
   "source": [
    "eigvals_T, eigvecs_T = np.linalg.eig(T)\n",
    "eigvals_T_prime, eigvecs_T_prime = np.linalg.eig(T_prime)\n",
    "\n",
    "eigvals_T_inds = np.argsort(eigvals_T, )[::-1]\n",
    "eigvals_T_sorted = eigvals_T[eigvals_T_inds]\n",
    "\n",
    "eigvals_T_prime_inds = np.argsort(eigvals_T_prime, )[::-1]\n",
    "eigvals_T_prime_sorted = eigvals_T_prime[eigvals_T_prime_inds]\n",
    "\n",
    "\n",
    "print('Sorted eigenvalues of T:')\n",
    "print(eigvals_T_sorted)\n",
    "print('Sorted eigenvectors of T prime')\n",
    "print(eigvals_T_prime_sorted)\n",
    "print(f\"Are T and T prime have the same eigenvalue? {np.allclose(eigvals_T_sorted, eigvals_T_prime_sorted)}\")\n"
   ]
  },
  {
   "cell_type": "markdown",
   "id": "a08bd2c1",
   "metadata": {},
   "source": [
    "## Q2"
   ]
  },
  {
   "cell_type": "code",
   "execution_count": 59,
   "id": "a7afec5a",
   "metadata": {},
   "outputs": [
    {
     "name": "stdout",
     "output_type": "stream",
     "text": [
      "The first invariant of the T is: 4.5\n",
      "The second invariant of the T is: 6.125\n",
      "The third invariant of the T is: 2.625\n",
      "The first invariant of the T prime is: 4.499999999999999\n",
      "The second invariant of the T prime is: 6.124999999999997\n",
      "The third invariant of the T prime is: 2.6249999999999996\n",
      "Are the first invariants the same: True\n",
      "Are the second invariants the same: True\n",
      "Are the third invariants the same: True\n",
      "Is Cayley-Hamilton equation satisfied for T? True\n",
      "Is Cayley-Hamilton equation satisfied for T prime? True\n"
     ]
    }
   ],
   "source": [
    "find_first_invariant = lambda C: np.trace(C)\n",
    "find_second_invariant = lambda C: 0.5 * ((np.trace(C)**2) - np.trace(C @ C))\n",
    "find_third_invariant = lambda C: np.linalg.det(C)\n",
    "\n",
    "first_variant_T = find_first_invariant(T)\n",
    "second_variant_T = find_second_invariant(T)\n",
    "third_variant_T = find_third_invariant(T)\n",
    "\n",
    "first_variant_T_prime = find_first_invariant(T_prime)\n",
    "second_variant_T_prime = find_second_invariant(T_prime)\n",
    "third_variant_T_prime = find_third_invariant(T_prime)\n",
    "\n",
    "\n",
    "\n",
    "print(f\"The first invariant of the T is: {first_variant_T}\")\n",
    "print(f\"The second invariant of the T is: {second_variant_T}\")\n",
    "print(f\"The third invariant of the T is: {third_variant_T}\")\n",
    "\n",
    "print(f\"The first invariant of the T prime is: {first_variant_T_prime}\")\n",
    "print(f\"The second invariant of the T prime is: {second_variant_T_prime}\")\n",
    "print(f\"The third invariant of the T prime is: {third_variant_T_prime}\")\n",
    "\n",
    "\n",
    "print(f\"Are the first invariants the same: {np.isclose(first_variant_T, first_variant_T_prime)}\")\n",
    "print(f\"Are the second invariants the same: {np.isclose(second_variant_T, second_variant_T_prime)}\")\n",
    "print(f\"Are the third invariants the same: {np.isclose(third_variant_T, third_variant_T_prime)}\")\n",
    "\n",
    "check_characteristic_cubic_equation = lambda I_T, II_T, III_T, eigval: eigval**3 - I_T * eigval**2 + II_T * eigval - III_T\n",
    "cayley_ham_T = check_characteristic_cubic_equation(first_variant_T, \n",
    "                                    second_variant_T,\n",
    "                                    third_variant_T,\n",
    "                                    eigvals_T_sorted) \n",
    "\n",
    "cayley_ham_T_prime = check_characteristic_cubic_equation(first_variant_T_prime, \n",
    "                                    second_variant_T_prime,\n",
    "                                    third_variant_T_prime,\n",
    "                                    eigvals_T_prime_sorted) \n",
    "\n",
    "print(f\"Is Cayley-Hamilton equation satisfied for T? {np.allclose(cayley_ham_T, np.zeros(3))}\")\n",
    "print(f\"Is Cayley-Hamilton equation satisfied for T prime? {np.allclose(cayley_ham_T_prime, np.zeros(3))}\")\n",
    "\n",
    "\n"
   ]
  },
  {
   "cell_type": "markdown",
   "id": "565fbac0",
   "metadata": {},
   "source": [
    "## Q3"
   ]
  },
  {
   "cell_type": "markdown",
   "id": "d0f98bea",
   "metadata": {},
   "source": [
    "### a) Decompose the tensor $A$ into the symmetric and an antisymmetric parts"
   ]
  },
  {
   "cell_type": "code",
   "execution_count": null,
   "id": "521372ce",
   "metadata": {},
   "outputs": [
    {
     "name": "stdout",
     "output_type": "stream",
     "text": [
      "Symmetric part of the tensor A is: \n",
      " [[1. 3. 2.]\n",
      " [3. 2. 1.]\n",
      " [2. 1. 1.]]\n",
      "Antisymmetric part of the tensor A is: \n",
      " [[ 0. -1.  1.]\n",
      " [ 1.  0.  0.]\n",
      " [-1.  0.  0.]]\n"
     ]
    }
   ],
   "source": [
    "find_symmetric_part = lambda A: (A + A.T) / 2\n",
    "find_antisymmetric_part = lambda A: (A - A.T) / 2\n",
    "\n",
    "A_sym = find_symmetric_part(A)\n",
    "A_antisym = find_antisymmetric_part(A)\n",
    "\n",
    "print(f\"Symmetric part of the tensor A is: \\n {A_sym}\")\n",
    "print(f\"Antisymmetric part of the tensor A is: \\n {A_antisym}\")"
   ]
  },
  {
   "cell_type": "markdown",
   "id": "0d3f24a5",
   "metadata": {},
   "source": [
    "### c) Apply this principal to your answer for (a)"
   ]
  },
  {
   "cell_type": "code",
   "execution_count": 65,
   "id": "4cb62c08",
   "metadata": {},
   "outputs": [
    {
     "name": "stdout",
     "output_type": "stream",
     "text": [
      "Lets denote the symmetric part of the tensor A as C\n",
      "Lets denote the antisymmetric part of the tensor A as D\n",
      "Trace of the C@D is 0.0\n"
     ]
    }
   ],
   "source": [
    "print(\"Lets denote the symmetric part of the tensor A as C\")\n",
    "C = A_sym\n",
    "print(\"Lets denote the antisymmetric part of the tensor A as D\")\n",
    "D = A_antisym\n",
    "print(f\"Trace of the C@D is {np.trace(C @ D)}\")\n"
   ]
  },
  {
   "cell_type": "markdown",
   "id": "09c06bad",
   "metadata": {},
   "source": [
    "## Q4"
   ]
  },
  {
   "cell_type": "code",
   "execution_count": 79,
   "id": "b1f041e8",
   "metadata": {},
   "outputs": [
    {
     "name": "stdout",
     "output_type": "stream",
     "text": [
      "Spherical part of T is: \n",
      " [[1.5 0.  0. ]\n",
      " [0.  1.5 0. ]\n",
      " [0.  0.  1.5]]\n",
      "Deviatoric part of T is: \n",
      " [[-0.5        0.         0.       ]\n",
      " [ 0.        -0.25      -0.4330127]\n",
      " [ 0.        -0.4330127  0.75     ]]\n",
      "Spherical part of A is: \n",
      " [[1.33333333 0.         0.        ]\n",
      " [0.         1.33333333 0.        ]\n",
      " [0.         0.         1.33333333]]\n",
      "Deviatoric part of A is: \n",
      " [[-0.33333333  2.          3.        ]\n",
      " [ 4.          0.66666667  1.        ]\n",
      " [ 1.          1.         -0.33333333]]\n",
      "Is the trace of dev(T)=0? True\n",
      "Is the trace of dev(A)=0? True\n"
     ]
    }
   ],
   "source": [
    "decompose_into_spherical = lambda C: 1 / 3 * np.trace(C) * np.eye(3)\n",
    "decompose_into_deviatoric = lambda C: C - decompose_into_spherical(C)\n",
    "\n",
    "spherical_T = decompose_into_spherical(T)\n",
    "deviatoric_T = decompose_into_deviatoric(T)\n",
    "\n",
    "spherical_A = decompose_into_spherical(A)\n",
    "deviatoric_A = decompose_into_deviatoric(A)\n",
    "\n",
    "print(f\"Spherical part of T is: \\n {spherical_T}\")\n",
    "print(f\"Deviatoric part of T is: \\n {deviatoric_T}\")\n",
    "print(f\"Spherical part of A is: \\n {spherical_A}\")\n",
    "print(f\"Deviatoric part of A is: \\n {deviatoric_A}\")\n",
    "\n",
    "\n",
    "trace_dev_T = np.trace(deviatoric_T)\n",
    "trace_dev_A = np.trace(deviatoric_A)\n",
    "\n",
    "print(f\"Is the trace of dev(T)=0? {np.isclose(trace_dev_T,0)}\")\n",
    "print(f\"Is the trace of dev(A)=0? {np.isclose(trace_dev_A,0)}\")\n",
    "\n"
   ]
  },
  {
   "cell_type": "markdown",
   "id": "ef5249d2",
   "metadata": {},
   "source": [
    "## Q5"
   ]
  },
  {
   "cell_type": "code",
   "execution_count": 80,
   "id": "cc24c728",
   "metadata": {},
   "outputs": [
    {
     "name": "stdout",
     "output_type": "stream",
     "text": [
      "A^T A =\n",
      " [[ 1.00000000e+00 -7.43708407e-18  0.00000000e+00]\n",
      " [-7.43708407e-18  1.00000000e+00  0.00000000e+00]\n",
      " [ 0.00000000e+00  0.00000000e+00  1.00000000e+00]]\n",
      "Is A orthogonal? True\n",
      "B^T B =\n",
      " [[1 0 0]\n",
      " [0 1 0]\n",
      " [0 0 1]]\n",
      "Is B orthogonal? True\n",
      "det(A) = 1.0\n",
      "det(B) = -1.0\n",
      "A is a proper orthogonal tensor → a rotation.\n",
      "B is an improper orthogonal tensor → a reflection.\n"
     ]
    }
   ],
   "source": [
    "# angle in radians\n",
    "theta = np.pi / 6   # 30 degrees for example\n",
    "\n",
    "# Define A (rotation in xy-plane)\n",
    "A = np.array([\n",
    "    [np.cos(theta),  np.sin(theta), 0],\n",
    "    [-np.sin(theta), np.cos(theta), 0],\n",
    "    [0, 0, 1]\n",
    "])\n",
    "\n",
    "# Define B (reflection in x-y plane across line x=-y?)\n",
    "B = np.array([\n",
    "    [-1, 0, 0],\n",
    "    [0, 1, 0],\n",
    "    [0, 0, 1]\n",
    "])\n",
    "\n",
    "# Check orthogonality\n",
    "print(\"A^T A =\\n\", A.T @ A)\n",
    "print(\"Is A orthogonal?\", np.allclose(A.T @ A, np.eye(3)))\n",
    "\n",
    "print(\"B^T B =\\n\", B.T @ B)\n",
    "print(\"Is B orthogonal?\", np.allclose(B.T @ B, np.eye(3)))\n",
    "\n",
    "# Determinants\n",
    "print(\"det(A) =\", np.linalg.det(A))\n",
    "print(\"det(B) =\", np.linalg.det(B))\n",
    "\n",
    "# Classification\n",
    "if np.isclose(np.linalg.det(A), 1.0):\n",
    "    print(\"A is a proper orthogonal tensor → a rotation.\")\n",
    "if np.isclose(np.linalg.det(B), -1.0):\n",
    "    print(\"B is an improper orthogonal tensor → a reflection.\")"
   ]
  },
  {
   "cell_type": "markdown",
   "id": "0bb77ca0",
   "metadata": {},
   "source": [
    "# Part III - Hard Tissue Physiology"
   ]
  },
  {
   "cell_type": "markdown",
   "id": "76d0e58b",
   "metadata": {},
   "source": [
    "## Q6) Answer the following in 1-2 paragraphs for each question"
   ]
  },
  {
   "cell_type": "markdown",
   "id": "61a79287",
   "metadata": {},
   "source": [
    "### a) What are the major bone types and components of bone?\n",
    "Bones are classified into four major types based on shape: long bones (e.g., femur, humerus), short bones (e.g., carpals), flat bones (e.g., skull, sternum), and irregular bones (e.g., vertebrae). Structurally, bone is composed of compact (cortical) bone, which is dense and provides strength, and spongy (trabecular or cancellous) bone, which has a porous architecture that reduces weight while maintaining structural support. The main components of bone include the organic matrix (primarily type I collagen, providing flexibility and tensile strength), inorganic mineral phase (hydroxyapatite crystals, conferring hardness and compressive strength), and water. Additionally, bone contains living cells (osteoblasts, osteoclasts, osteocytes) and marrow spaces for hematopoiesis."
   ]
  },
  {
   "cell_type": "markdown",
   "id": "6c9ca263",
   "metadata": {},
   "source": [
    "### b) Going from the cell to the whole bone levels, name all major structures\n",
    "At the smallest level, bone is composed of bone cells (osteoblasts, osteoclasts, osteocytes) embedded within an extracellular matrix. These cells are organized into osteons in cortical bone, which are concentric lamellae around a central Haversian canal containing blood vessels and nerves. In cancellous bone, the structure is arranged into a lattice of trabeculae. At a larger scale, bones are wrapped by the periosteum externally and the endosteum internally. The bone is further organized into epiphyses (ends), metaphyses (transition zones), and diaphyses (shaft) in long bones, containing both cortical and cancellous regions. At the whole organ level, bones integrate into the skeletal system, articulating through joints and connecting to muscles, tendons, and ligaments for mechanical and physiological function."
   ]
  },
  {
   "cell_type": "markdown",
   "id": "80f04b04",
   "metadata": {},
   "source": [
    "### c) What are the major bone cell types and their respective functions?\n",
    "There are four major bone cell types. Osteoblasts are bone-forming cells that synthesize and secrete the organic bone matrix and initiate mineralization. Osteoclasts are large, multinucleated cells responsible for bone resorption through enzymatic and acidic degradation of mineralized matrix. Osteocytes are mature bone cells derived from osteoblasts that become embedded within lacunae; they function as mechanosensors and regulate bone remodeling through signaling. Finally, bone lining cells cover inactive bone surfaces, playing roles in bone maintenance and regulating ion exchange. Together, these cells coordinate bone turnover and adaptation."
   ]
  },
  {
   "cell_type": "markdown",
   "id": "df55a779",
   "metadata": {},
   "source": [
    "### d) What is the difference between bone tissue remodeling vs. modeling?\n",
    "Bone remodeling is the coupled process of bone resorption by osteoclasts and bone formation by osteoblasts at the same site, replacing old or damaged bone with new tissue to maintain skeletal integrity and mineral homeostasis. This is a lifelong process that occurs in localized cycles. In contrast, bone modeling refers to the process where bone formation and resorption occur on different surfaces or at different sites, leading to changes in bone shape, size, and structure. Modeling is most prominent during growth and development, whereas remodeling predominates in adult bone maintenance and repair."
   ]
  },
  {
   "cell_type": "markdown",
   "id": "2271cefc",
   "metadata": {},
   "source": [
    "## Q7) Answer the following in 2-3 paragraphs."
   ]
  },
  {
   "cell_type": "markdown",
   "id": "568144bb",
   "metadata": {},
   "source": [
    "### a)\n",
    "Bone achieves its physiological functions—support, protection, movement, mineral storage, and hematopoiesis—by adapting its geometry and internal structure to mechanical and metabolic demands. Long bones, for example, have thick cortical bone along the shaft to withstand bending and torsional loads, while their ends are composed of cancellous bone to absorb joint stresses. The distribution of cortical vs. cancellous bone can be locally modified; for example, the femoral neck has a trabecular pattern aligned with principal stress trajectories, optimizing load transfer. Similarly, bone mass distribution can change through remodeling in response to Wolff’s law, reinforcing regions under high stress and resorbing bone where stresses are lower, thereby conserving material while maximizing strength."
   ]
  },
  {
   "cell_type": "markdown",
   "id": "ad7a3b29",
   "metadata": {},
   "source": [
    "### b) \n",
    "At the morphological level, bones exhibit adaptations that enhance efficiency in fulfilling their roles. Cortical bone, being dense and strong, resists compressive and bending forces, making it essential in shafts of long bones that act as levers. Trabecular bone, with its porous lattice structure, provides lightweight support and facilitates shock absorption, particularly in vertebrae and epiphyses. On the microscopic level, the arrangement of lamellae in osteons allows resistance to torsion, while osteocyte networks ensure adaptive responses to mechanical loading. Across organizational levels, from collagen fibrils providing tensile strength to macroscopic bone curvature distributing loads, each structural adaptation ensures that bones can withstand diverse mechanical challenges while minimizing weight and metabolic cost."
   ]
  },
  {
   "cell_type": "markdown",
   "id": "9eda2576",
   "metadata": {},
   "source": []
  }
 ],
 "metadata": {
  "kernelspec": {
   "display_name": "cardiax-fem-env",
   "language": "python",
   "name": "python3"
  },
  "language_info": {
   "codemirror_mode": {
    "name": "ipython",
    "version": 3
   },
   "file_extension": ".py",
   "mimetype": "text/x-python",
   "name": "python",
   "nbconvert_exporter": "python",
   "pygments_lexer": "ipython3",
   "version": "3.10.6"
  }
 },
 "nbformat": 4,
 "nbformat_minor": 5
}
